{
 "cells": [
  {
   "cell_type": "markdown",
   "metadata": {},
   "source": [
    "# 멜론 차트 웹 스크래핑\n",
    "* 참고: https://www.youtube.com/watch?v=fcs3_bJf5rw"
   ]
  },
  {
   "cell_type": "code",
   "execution_count": 1,
   "metadata": {},
   "outputs": [],
   "source": [
    "# 라이브러리 로드\n",
    "import requests\n",
    "import re\n",
    "import pandas as pd\n",
    "import csv\n",
    "\n",
    "from bs4 import BeautifulSoup as bs"
   ]
  },
  {
   "cell_type": "code",
   "execution_count": 2,
   "metadata": {},
   "outputs": [],
   "source": [
    "day_url = \"https://www.melon.com/chart/day/index.htm\"\n",
    "headers = {\"User-Agent\":\"Mozilla/5.0 (Windows NT 10.0; Win64; x64) AppleWebKit/537.36 (KHTML, like Gecko) Chrome/91.0.4472.124 Safari/537.36\"}\n",
    "res = requests.get(day_url, headers = headers)\n",
    "res.raise_for_status()"
   ]
  },
  {
   "cell_type": "code",
   "execution_count": 3,
   "metadata": {},
   "outputs": [],
   "source": [
    "html = bs(res.text, 'lxml')"
   ]
  },
  {
   "cell_type": "code",
   "execution_count": 4,
   "metadata": {},
   "outputs": [],
   "source": [
    "top_100_list = html.select('.lst50, .lst100')"
   ]
  },
  {
   "cell_type": "code",
   "execution_count": 5,
   "metadata": {},
   "outputs": [],
   "source": [
    "melonList = []\n",
    "\n",
    "for i in top_100_list:\n",
    "    temp = []\n",
    "    temp.append(i.select_one('.rank').text) # 순위\n",
    "    temp.append(i.select_one('.ellipsis.rank01').a.text) # 곡 제목\n",
    "    temp.append(i.select_one('.ellipsis.rank02').a.text) # 가수 \n",
    "    temp.append(i.select_one('.ellipsis.rank03').a.text) # 앨범명\n",
    "    melonList.append(temp)"
   ]
  },
  {
   "cell_type": "code",
   "execution_count": 6,
   "metadata": {},
   "outputs": [
    {
     "data": {
      "text/html": [
       "<div>\n",
       "<style scoped>\n",
       "    .dataframe tbody tr th:only-of-type {\n",
       "        vertical-align: middle;\n",
       "    }\n",
       "\n",
       "    .dataframe tbody tr th {\n",
       "        vertical-align: top;\n",
       "    }\n",
       "\n",
       "    .dataframe thead th {\n",
       "        text-align: right;\n",
       "    }\n",
       "</style>\n",
       "<table border=\"1\" class=\"dataframe\">\n",
       "  <thead>\n",
       "    <tr style=\"text-align: right;\">\n",
       "      <th></th>\n",
       "      <th>곡명</th>\n",
       "      <th>아티스트</th>\n",
       "      <th>앨범명</th>\n",
       "    </tr>\n",
       "    <tr>\n",
       "      <th>순위</th>\n",
       "      <th></th>\n",
       "      <th></th>\n",
       "      <th></th>\n",
       "    </tr>\n",
       "  </thead>\n",
       "  <tbody>\n",
       "    <tr>\n",
       "      <th>1</th>\n",
       "      <td>바라만 본다</td>\n",
       "      <td>MSG워너비(M.O.M)</td>\n",
       "      <td>MSG워너비 1집</td>\n",
       "    </tr>\n",
       "    <tr>\n",
       "      <th>2</th>\n",
       "      <td>Next Level</td>\n",
       "      <td>aespa</td>\n",
       "      <td>Next Level</td>\n",
       "    </tr>\n",
       "    <tr>\n",
       "      <th>3</th>\n",
       "      <td>Butter</td>\n",
       "      <td>방탄소년단</td>\n",
       "      <td>Butter</td>\n",
       "    </tr>\n",
       "    <tr>\n",
       "      <th>4</th>\n",
       "      <td>Permission to Dance</td>\n",
       "      <td>방탄소년단</td>\n",
       "      <td>Butter / Permission to Dance</td>\n",
       "    </tr>\n",
       "    <tr>\n",
       "      <th>5</th>\n",
       "      <td>신호등</td>\n",
       "      <td>이무진</td>\n",
       "      <td>신호등</td>\n",
       "    </tr>\n",
       "    <tr>\n",
       "      <th>...</th>\n",
       "      <td>...</td>\n",
       "      <td>...</td>\n",
       "      <td>...</td>\n",
       "    </tr>\n",
       "    <tr>\n",
       "      <th>96</th>\n",
       "      <td>너를 만나</td>\n",
       "      <td>폴킴</td>\n",
       "      <td>너를 만나</td>\n",
       "    </tr>\n",
       "    <tr>\n",
       "      <th>97</th>\n",
       "      <td>Don't Start Now</td>\n",
       "      <td>Dua Lipa</td>\n",
       "      <td>Future Nostalgia</td>\n",
       "    </tr>\n",
       "    <tr>\n",
       "      <th>98</th>\n",
       "      <td>Love poem</td>\n",
       "      <td>아이유</td>\n",
       "      <td>Love poem</td>\n",
       "    </tr>\n",
       "    <tr>\n",
       "      <th>99</th>\n",
       "      <td>Hello Future</td>\n",
       "      <td>NCT DREAM</td>\n",
       "      <td>Hello Future - The 1st Album Repackage</td>\n",
       "    </tr>\n",
       "    <tr>\n",
       "      <th>100</th>\n",
       "      <td>내 마음이 움찔했던 순간 (취향저격 그녀 X 규현)</td>\n",
       "      <td>규현 (KYUHYUN)</td>\n",
       "      <td>내 마음이 움찔했던 순간 (취향저격 그녀 X 규현)</td>\n",
       "    </tr>\n",
       "  </tbody>\n",
       "</table>\n",
       "<p>100 rows × 3 columns</p>\n",
       "</div>"
      ],
      "text/plain": [
       "                               곡명           아티스트  \\\n",
       "순위                                                 \n",
       "1                          바라만 본다  MSG워너비(M.O.M)   \n",
       "2                      Next Level          aespa   \n",
       "3                          Butter          방탄소년단   \n",
       "4             Permission to Dance          방탄소년단   \n",
       "5                             신호등            이무진   \n",
       "..                            ...            ...   \n",
       "96                          너를 만나             폴킴   \n",
       "97                Don't Start Now       Dua Lipa   \n",
       "98                      Love poem            아이유   \n",
       "99                   Hello Future      NCT DREAM   \n",
       "100  내 마음이 움찔했던 순간 (취향저격 그녀 X 규현)   규현 (KYUHYUN)   \n",
       "\n",
       "                                        앨범명  \n",
       "순위                                           \n",
       "1                                 MSG워너비 1집  \n",
       "2                                Next Level  \n",
       "3                                    Butter  \n",
       "4              Butter / Permission to Dance  \n",
       "5                                       신호등  \n",
       "..                                      ...  \n",
       "96                                    너를 만나  \n",
       "97                         Future Nostalgia  \n",
       "98                                Love poem  \n",
       "99   Hello Future - The 1st Album Repackage  \n",
       "100            내 마음이 움찔했던 순간 (취향저격 그녀 X 규현)  \n",
       "\n",
       "[100 rows x 3 columns]"
      ]
     },
     "execution_count": 6,
     "metadata": {},
     "output_type": "execute_result"
    }
   ],
   "source": [
    "# 리스트를 데이터프레임 형태로 변환\n",
    "melonList_df = pd.DataFrame(melonList, columns= ['순위', '곡명','아티스트', '앨범명'])\n",
    "melonList_df.set_index('순위', inplace=True)\n",
    "melonList_df"
   ]
  },
  {
   "cell_type": "code",
   "execution_count": 7,
   "metadata": {},
   "outputs": [],
   "source": [
    "# 파일로 저장\n",
    "melonList_df.to_csv(\"melon_top100.csv\", encoding='utf-8')"
   ]
  },
  {
   "cell_type": "code",
   "execution_count": null,
   "metadata": {},
   "outputs": [],
   "source": []
  }
 ],
 "metadata": {
  "kernelspec": {
   "display_name": "Python 3",
   "language": "python",
   "name": "python3"
  },
  "language_info": {
   "codemirror_mode": {
    "name": "ipython",
    "version": 3
   },
   "file_extension": ".py",
   "mimetype": "text/x-python",
   "name": "python",
   "nbconvert_exporter": "python",
   "pygments_lexer": "ipython3",
   "version": "3.8.5"
  },
  "toc": {
   "base_numbering": 1,
   "nav_menu": {},
   "number_sections": true,
   "sideBar": true,
   "skip_h1_title": false,
   "title_cell": "Table of Contents",
   "title_sidebar": "Contents",
   "toc_cell": false,
   "toc_position": {},
   "toc_section_display": true,
   "toc_window_display": false
  },
  "varInspector": {
   "cols": {
    "lenName": 16,
    "lenType": 16,
    "lenVar": 40
   },
   "kernels_config": {
    "python": {
     "delete_cmd_postfix": "",
     "delete_cmd_prefix": "del ",
     "library": "var_list.py",
     "varRefreshCmd": "print(var_dic_list())"
    },
    "r": {
     "delete_cmd_postfix": ") ",
     "delete_cmd_prefix": "rm(",
     "library": "var_list.r",
     "varRefreshCmd": "cat(var_dic_list()) "
    }
   },
   "types_to_exclude": [
    "module",
    "function",
    "builtin_function_or_method",
    "instance",
    "_Feature"
   ],
   "window_display": false
  }
 },
 "nbformat": 4,
 "nbformat_minor": 4
}
